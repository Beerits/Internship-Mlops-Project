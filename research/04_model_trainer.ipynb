{
 "cells": [
  {
   "cell_type": "code",
   "execution_count": 2,
   "metadata": {},
   "outputs": [],
   "source": [
    "import os\n"
   ]
  },
  {
   "cell_type": "code",
   "execution_count": 3,
   "metadata": {},
   "outputs": [],
   "source": [
    "os.chdir(\"../\")"
   ]
  },
  {
   "cell_type": "code",
   "execution_count": 4,
   "metadata": {},
   "outputs": [
    {
     "data": {
      "text/plain": [
       "'c:\\\\Users\\\\LENOVO\\\\OneDrive\\\\Desktop\\\\Miraffra\\\\Internship-Mlops-Project'"
      ]
     },
     "execution_count": 4,
     "metadata": {},
     "output_type": "execute_result"
    }
   ],
   "source": [
    "%pwd"
   ]
  },
  {
   "cell_type": "code",
   "execution_count": 24,
   "metadata": {},
   "outputs": [],
   "source": [
    "from dataclasses import dataclass\n",
    "from pathlib import Path\n",
    "\n",
    "\n",
    "@dataclass(frozen=True)\n",
    "class ModelTrainerConfig:\n",
    "    root_dir: Path\n",
    "    train_data_path: Path\n",
    "    test_data_path: Path\n",
    "    model_name: str\n",
    "    n_estimators: int\n",
    "    class_weight: str\n",
    "    random_state: int\n",
    "    target_column: str"
   ]
  },
  {
   "cell_type": "code",
   "execution_count": 25,
   "metadata": {},
   "outputs": [],
   "source": [
    "from mlProject.constants import *\n",
    "from mlProject.utils.common import read_yaml, create_directories"
   ]
  },
  {
   "cell_type": "code",
   "execution_count": 26,
   "metadata": {},
   "outputs": [],
   "source": [
    "class ConfigurationManager:\n",
    "    def __init__(\n",
    "        self,\n",
    "        params_filepath = PARAMS_FILE_PATH,\n",
    "        config_filepath = CONFIG_FILE_PATH,\n",
    "        \n",
    "        schema_filepath = SCHEMA_FILE_PATH):\n",
    "\n",
    "        self.params = read_yaml(params_filepath)\n",
    "        self.config = read_yaml(config_filepath)\n",
    "        \n",
    "        self.schema = read_yaml(schema_filepath)\n",
    "\n",
    "        create_directories([self.config.artifacts_root])\n",
    "\n",
    "\n",
    "    def get_model_trainer_config(self) -> ModelTrainerConfig:\n",
    "        config = self.config.model_trainer\n",
    "        params = self.params.RandomForestClassifier\n",
    "        schema =  self.schema.TARGET_COLUMN\n",
    "\n",
    "        create_directories([config.root_dir])\n",
    "\n",
    "        model_trainer_config = ModelTrainerConfig(\n",
    "            root_dir=config.root_dir,\n",
    "            train_data_path = config.train_data_path,\n",
    "            test_data_path = config.test_data_path,\n",
    "            model_name = config.model_name,\n",
    "            n_estimators= params.n_estimators,\n",
    "            class_weight= params.class_weight,\n",
    "            random_state= params.random_state,\n",
    "            target_column = schema.name\n",
    "            \n",
    "        )\n",
    "\n",
    "        return model_trainer_config"
   ]
  },
  {
   "cell_type": "code",
   "execution_count": 27,
   "metadata": {},
   "outputs": [],
   "source": [
    "import pandas as pd\n",
    "import os\n",
    "from mlProject import logger\n",
    "# from sklearn.linear_model import ElasticNet\n",
    "import joblib\n",
    "from sklearn.linear_model import LogisticRegression\n",
    "# from sklearn.naive_bayes import MultinomialNB\n",
    "\n"
   ]
  },
  {
   "cell_type": "code",
   "execution_count": 28,
   "metadata": {},
   "outputs": [],
   "source": [
    "from sklearn.metrics import accuracy_score, precision_score, recall_score, f1_score\n",
    "\n"
   ]
  },
  {
   "cell_type": "code",
   "execution_count": 31,
   "metadata": {},
   "outputs": [],
   "source": [
    "from sklearn.preprocessing import StandardScaler, MinMaxScaler\n",
    "from imblearn.over_sampling import SMOTE\n",
    "\n",
    "from imblearn.under_sampling import RandomUnderSampler\n",
    "\n",
    "from imblearn.over_sampling import ADASYN\n",
    "\n",
    "from imblearn.under_sampling import NearMiss\n",
    "\n",
    "\n",
    "from sklearn.ensemble import RandomForestClassifier, GradientBoostingClassifier\n",
    "\n",
    "\n",
    "\n",
    "from xgboost import XGBClassifier\n",
    "\n",
    "\n",
    "\n",
    "\n",
    "class ModelTrainer:\n",
    "    def __init__(self, config: ModelTrainerConfig):\n",
    "        self.config = config\n",
    "\n",
    "    \n",
    "    def train(self):\n",
    "        train_data = pd.read_csv(self.config.train_data_path)\n",
    "        test_data = pd.read_csv(self.config.test_data_path)\n",
    "\n",
    "        train_data = train_data.dropna(subset=[self.config.target_column])\n",
    "        test_data = test_data.dropna(subset=[self.config.target_column])\n",
    "\n",
    "\n",
    "        # Separate features and target\n",
    "        train_x = train_data.drop([self.config.target_column], axis=1)\n",
    "        test_x = test_data.drop([self.config.target_column], axis=1)\n",
    "        train_y = train_data[self.config.target_column]\n",
    "        test_y = test_data[self.config.target_column]\n",
    "\n",
    "        # Feature scaling\n",
    "        # scaler = StandardScaler()\n",
    "        scaler = MinMaxScaler()\n",
    "        train_x_scaled = scaler.fit_transform(train_x)\n",
    "        test_x_scaled = scaler.transform(test_x)\n",
    "        print(\"After scaling the shapes are:\")\n",
    "        logger.info(train_x_scaled.shape)\n",
    "        logger.info(test_x_scaled.shape)\n",
    "\n",
    "        # Handling class imbalance\n",
    "        # smote = SMOTE(random_state=42)\n",
    "        # train_x_balanced, train_y_balanced = smote.fit_resample(train_x_scaled, train_y)\n",
    "\n",
    "        # rus = RandomUnderSampler(random_state=42)\n",
    "        # train_x_balanced, train_y_balanced = rus.fit_resample(train_x_scaled, train_y)\n",
    "\n",
    "        # adasyn = ADASYN(random_state=42)\n",
    "        # train_x_balanced, train_y_balanced = adasyn.fit_resample(train_x_scaled, train_y)\n",
    "\n",
    "        nearmiss = NearMiss()\n",
    "        train_x_balanced, train_y_balanced = nearmiss.fit_resample(train_x_scaled, train_y)\n",
    "        print(\"After balancing the shapes are: \")\n",
    "        logger.info(train_x_balanced.shape)\n",
    "        logger.info(train_y_balanced.shape)\n",
    "\n",
    "        # Logistic Regression with class weights\n",
    "        # lr = LogisticRegression(max_iter=1000, class_weight='balanced', random_state=42)\n",
    "\n",
    "        # Fit the model\n",
    "        # lr.fit(train_x_balanced, train_y_balanced)\n",
    "\n",
    "        # nb = MultinomialNB()\n",
    "        # nb.fit(train_x_balanced, train_y_balanced)\n",
    "\n",
    "        # Make predictions\n",
    "        # predictions = lr.predict(test_x_scaled)\n",
    "\n",
    "        # predictions = nb.predict(test_x_scaled)\n",
    "\n",
    "\n",
    "        # xgb = XGBClassifier(\n",
    "        #     n_estimators=100,\n",
    "        #     scale_pos_weight=1,  # Set this to balance class weight\n",
    "        #     random_state=42,\n",
    "        #     eval_metric='logloss'\n",
    "        # )\n",
    "        # xgb.fit(train_x_balanced, train_y_balanced)\n",
    "\n",
    "        # # Make predictions\n",
    "        # predictions = xgb.predict(test_x_scaled)\n",
    "\n",
    "        rf = RandomForestClassifier(n_estimators=self.config.n_estimators, class_weight=self.config.class_weight, random_state=self.config.random_state)\n",
    "        rf.fit(train_x_balanced, train_y_balanced)\n",
    "        predictions = rf.predict(test_x_scaled)\n",
    "\n",
    "        # gbc = GradientBoostingClassifier(n_estimators=100, random_state=42)\n",
    "        # gbc.fit(train_x_balanced, train_y_balanced)\n",
    "        # predictions = gbc.predict(test_x_scaled)\n",
    "\n",
    "        # Calculate metrics\n",
    "        accuracy = accuracy_score(test_y, predictions)\n",
    "        precision = precision_score(test_y, predictions)\n",
    "        recall = recall_score(test_y, predictions)\n",
    "        f1 = f1_score(test_y, predictions)\n",
    "\n",
    "        # Print metrics\n",
    "        # print(f\"Accuracy: {accuracy:.4f}\")\n",
    "        # print(f\"Precision: {precision:.4f}\")\n",
    "        # print(f\"Recall: {recall:.4f}\")\n",
    "        # print(f\"F1 Score: {f1:.4f}\")\n",
    "\n",
    "        # Save the model\n",
    "        # joblib.dump(rf, os.path.join(self.config.root_dir, self.config.model_name))\n",
    "\n",
    "        # Logging\n",
    "        logger.info(\"Model training completed and model saved.\")\n",
    "        logger.info(f\"Accuracy: {accuracy:.4f}\")\n",
    "        logger.info(f\"Precision: {precision:.4f}\")\n",
    "        logger.info(f\"Recall: {recall:.4f}\")\n",
    "        logger.info(f\"F1 Score: {f1:.4f}\")\n",
    "\n",
    "        print(f\"Training and testing shapes: {train_x.shape}, {test_x.shape}\")\n",
    "\n",
    "        \n",
    "\n",
    "        "
   ]
  },
  {
   "cell_type": "code",
   "execution_count": null,
   "metadata": {},
   "outputs": [],
   "source": []
  },
  {
   "cell_type": "code",
   "execution_count": 32,
   "metadata": {},
   "outputs": [
    {
     "name": "stdout",
     "output_type": "stream",
     "text": [
      "[2024-08-25 16:25:14,302: INFO: common: yaml file: params.yaml loaded successfully]\n",
      "[2024-08-25 16:25:14,304: INFO: common: yaml file: config\\config.yaml loaded successfully]\n",
      "[2024-08-25 16:25:14,309: INFO: common: yaml file: schema.yaml loaded successfully]\n",
      "[2024-08-25 16:25:14,309: INFO: common: created directory at: artifacts]\n",
      "[2024-08-25 16:25:14,309: INFO: common: created directory at: artifacts/model_trainer]\n",
      "After scaling the shapes are:\n",
      "[2024-08-25 16:25:17,664: INFO: 3308136143: (3652, 5000)]\n",
      "[2024-08-25 16:25:17,664: INFO: 3308136143: (245, 5000)]\n",
      "After balancing the shapes are: \n",
      "[2024-08-25 16:25:18,535: INFO: 3308136143: (2156, 5000)]\n",
      "[2024-08-25 16:25:18,537: INFO: 3308136143: (2156,)]\n",
      "[2024-08-25 16:25:22,408: INFO: 3308136143: Model training completed and model saved.]\n",
      "[2024-08-25 16:25:22,424: INFO: 3308136143: Accuracy: 0.6041]\n",
      "[2024-08-25 16:25:22,424: INFO: 3308136143: Precision: 1.0000]\n",
      "[2024-08-25 16:25:22,424: INFO: 3308136143: Recall: 0.6041]\n",
      "[2024-08-25 16:25:22,424: INFO: 3308136143: F1 Score: 0.7532]\n",
      "Training and testing shapes: (3652, 5000), (245, 5000)\n"
     ]
    }
   ],
   "source": [
    "try:\n",
    "    config = ConfigurationManager()\n",
    "    model_trainer_config = config.get_model_trainer_config()\n",
    "    model_trainer_config = ModelTrainer(config=model_trainer_config)\n",
    "    model_trainer_config.train()\n",
    "except Exception as e:\n",
    "    raise e"
   ]
  },
  {
   "cell_type": "code",
   "execution_count": null,
   "metadata": {},
   "outputs": [],
   "source": []
  },
  {
   "cell_type": "code",
   "execution_count": null,
   "metadata": {},
   "outputs": [],
   "source": []
  }
 ],
 "metadata": {
  "kernelspec": {
   "display_name": "Python 3",
   "language": "python",
   "name": "python3"
  },
  "language_info": {
   "codemirror_mode": {
    "name": "ipython",
    "version": 3
   },
   "file_extension": ".py",
   "mimetype": "text/x-python",
   "name": "python",
   "nbconvert_exporter": "python",
   "pygments_lexer": "ipython3",
   "version": "3.11.0"
  }
 },
 "nbformat": 4,
 "nbformat_minor": 2
}
